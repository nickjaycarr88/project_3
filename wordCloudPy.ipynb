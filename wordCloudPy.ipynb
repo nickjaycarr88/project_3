{
 "cells": [
  {
   "cell_type": "code",
   "execution_count": 49,
   "id": "fd2954dd",
   "metadata": {},
   "outputs": [],
   "source": [
    "# Load Libraries \n",
    "import pandas as pd\n",
    "import datetime as dt\n",
    "import os\n",
    "import numpy as np\n",
    "\n",
    "from pytrends.request import TrendReq\n",
    "from wordcloud import WordCloud, ImageColorGenerator, STOPWORDS\n",
    "from PIL import Image\n"
   ]
  },
  {
   "cell_type": "code",
   "execution_count": 2,
   "id": "c4e09193",
   "metadata": {},
   "outputs": [],
   "source": [
    "# initialise TrendReq\n",
    "pytrend = TrendReq(hl='en-US', tz=-480)"
   ]
  },
  {
   "cell_type": "code",
   "execution_count": 41,
   "id": "0f4d5f35",
   "metadata": {},
   "outputs": [],
   "source": [
    "## Function designed as test, user keyword input\n",
    "\n",
    "#def keywordinput(kwsearchs, kwlist1):\n",
    "#    for i in range(kwsearchs):\n",
    "#        kwuser = input(\"Keyword: ?\")\n",
    "#        kwlist1.append(kwuser)\n",
    "#    return kwlist1"
   ]
  },
  {
   "cell_type": "code",
   "execution_count": 42,
   "id": "a55da22b",
   "metadata": {},
   "outputs": [],
   "source": [
    "#kwlist1 = []"
   ]
  },
  {
   "cell_type": "code",
   "execution_count": 43,
   "id": "d423265b",
   "metadata": {},
   "outputs": [],
   "source": [
    "# Code - test - user inputs how many keywords they would like to entry/search for.\n",
    "#kwsearchs = int(input(\"How many keywords would you like to search for? \"))"
   ]
  },
  {
   "cell_type": "code",
   "execution_count": 44,
   "id": "58cdf40e",
   "metadata": {},
   "outputs": [],
   "source": [
    "#kw_list = keywordinput(kwsearchs, kwlist1)"
   ]
  },
  {
   "cell_type": "code",
   "execution_count": 26,
   "id": "c412fc60",
   "metadata": {},
   "outputs": [],
   "source": [
    "##########################\n",
    "# Keyword to be searched #\n",
    "##########################\n",
    "\n",
    "kw_list = ['ASX']"
   ]
  },
  {
   "cell_type": "code",
   "execution_count": 45,
   "id": "6694cc08",
   "metadata": {},
   "outputs": [],
   "source": [
    "# Build pytrends payload and query\n",
    "\n",
    "pytrend.build_payload(kw_list, cat=0, timeframe='now 7-d', geo='AU', gprop='')\n",
    "trends = pytrend.related_queries()"
   ]
  },
  {
   "cell_type": "code",
   "execution_count": 28,
   "id": "17e60b7f",
   "metadata": {},
   "outputs": [],
   "source": [
    "# Array to hold keyword top words data\n",
    "kwTop = []"
   ]
  },
  {
   "cell_type": "code",
   "execution_count": 29,
   "id": "15ec2349",
   "metadata": {},
   "outputs": [],
   "source": [
    "# Code designed to search multiple keywords, hense loop, kwTop to store the results of top trends similar to the keyword.\n",
    "for i in range(len(kw_list)):\n",
    "    kwTop.append(trends[kw_list[i]][\"top\"])"
   ]
  },
  {
   "cell_type": "code",
   "execution_count": 46,
   "id": "87bc8a4e",
   "metadata": {},
   "outputs": [],
   "source": [
    "#kwTop"
   ]
  },
  {
   "cell_type": "code",
   "execution_count": 48,
   "id": "2c4e020b",
   "metadata": {},
   "outputs": [],
   "source": [
    "#kwTop[0]"
   ]
  },
  {
   "cell_type": "code",
   "execution_count": 33,
   "id": "6883aa7f",
   "metadata": {},
   "outputs": [],
   "source": [
    "#Code designed to search multiple keywords, hense loop, textList to store kwTop lists as a string relating to key keyword.\n",
    "\n",
    "textList = []\n",
    "for i in range(len(kw_list)):\n",
    "    textList.append(' '.join(kwTop[i][\"query\"].to_list()))"
   ]
  },
  {
   "cell_type": "code",
   "execution_count": 34,
   "id": "86a01f33",
   "metadata": {},
   "outputs": [
    {
     "data": {
      "text/plain": [
       "'asx 200 asx share price asx today asx news all ords asx all ords asx bhp asx index dow asx cba asx pls dow jones asx live anz asx asx futures asx 200 today mitsubishi asx bhp share price asx bhp share price fmg asx asx cxo nab asx vas asx cba share price asx cba share price'"
      ]
     },
     "execution_count": 34,
     "metadata": {},
     "output_type": "execute_result"
    }
   ],
   "source": [
    "textList[0]"
   ]
  },
  {
   "cell_type": "code",
   "execution_count": 36,
   "id": "b7f59431",
   "metadata": {},
   "outputs": [],
   "source": [
    "# Create mask for wordCloud \n",
    "\n",
    "bg_mask = np.array(Image.open(os.path.join(os.getcwd(), \"australia.png\")))"
   ]
  },
  {
   "cell_type": "code",
   "execution_count": 37,
   "id": "1440689b",
   "metadata": {},
   "outputs": [],
   "source": [
    "# Create wordCloud container storing parameters\n",
    "\n",
    "wc = WordCloud(\n",
    "    width = 600, \n",
    "    height = 1000,    \n",
    "    background_color = 'white',\n",
    "    mask = bg_mask,\n",
    "    max_words = 100,\n",
    "    max_font_size = 150,\n",
    "    min_font_size = 15,\n",
    "    contour_width = 2, \n",
    "    contour_color = 'gold'\n",
    ")"
   ]
  },
  {
   "cell_type": "code",
   "execution_count": 50,
   "id": "0aea18ec",
   "metadata": {},
   "outputs": [],
   "source": [
    "#len(textList)"
   ]
  },
  {
   "cell_type": "code",
   "execution_count": 51,
   "id": "0325228a",
   "metadata": {},
   "outputs": [],
   "source": [
    "#Code designed to search multiple keywords, hense loop, wordcloud to generate jpg based on the words inside textList and save it into the local directory.\n",
    "for i in range(len(textList)):\n",
    "    wc.generate_from_text(textList[i])\n",
    "    filetype = \".jpg\"\n",
    "    output = kw_list[i] + filetype\n",
    "    wc.to_file(output)"
   ]
  }
 ],
 "metadata": {
  "kernelspec": {
   "display_name": "Python [conda env:PythonData] *",
   "language": "python",
   "name": "conda-env-PythonData-py"
  },
  "language_info": {
   "codemirror_mode": {
    "name": "ipython",
    "version": 3
   },
   "file_extension": ".py",
   "mimetype": "text/x-python",
   "name": "python",
   "nbconvert_exporter": "python",
   "pygments_lexer": "ipython3",
   "version": "3.7.7"
  },
  "vscode": {
   "interpreter": {
    "hash": "9b74207641f7cfe5e1ead3ae1581bd121868b10c7388807feecf4dcc1c97c85d"
   }
  }
 },
 "nbformat": 4,
 "nbformat_minor": 5
}
