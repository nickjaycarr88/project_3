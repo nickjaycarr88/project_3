{
 "cells": [
  {
   "cell_type": "code",
   "execution_count": 1,
   "id": "37f9411d",
   "metadata": {},
   "outputs": [],
   "source": [
    "# Load Libraries \n",
    "import pandas as pd\n",
    "import datetime as dt\n",
    "import os\n",
    "import numpy as np\n",
    "\n",
    "from pytrends.request import TrendReq\n",
    "from wordcloud import WordCloud, ImageColorGenerator, STOPWORDS\n",
    "from PIL import Image\n"
   ]
  },
  {
   "cell_type": "code",
   "execution_count": 2,
   "id": "fbe7a231",
   "metadata": {},
   "outputs": [],
   "source": [
    "# initialise TrendReq\n",
    "pytrend = TrendReq(hl='en-US', tz=-480)"
   ]
  },
  {
   "cell_type": "code",
   "execution_count": 3,
   "id": "3562a791",
   "metadata": {},
   "outputs": [],
   "source": [
    "## Function designed as test, user keyword input\n",
    "\n",
    "#def keywordinput(kwsearchs, kwlist1):\n",
    "#    for i in range(kwsearchs):\n",
    "#        kwuser = input(\"Keyword: ?\")\n",
    "#        kwlist1.append(kwuser)\n",
    "#    return kwlist1"
   ]
  },
  {
   "cell_type": "code",
   "execution_count": 4,
   "id": "3e6c892c",
   "metadata": {},
   "outputs": [],
   "source": [
    "#kwlist1 = []"
   ]
  },
  {
   "cell_type": "code",
   "execution_count": 5,
   "id": "7cac283b",
   "metadata": {},
   "outputs": [],
   "source": [
    "# Code - test - user inputs how many keywords they would like to entry/search for.\n",
    "#kwsearchs = int(input(\"How many keywords would you like to search for? \"))"
   ]
  },
  {
   "cell_type": "code",
   "execution_count": 6,
   "id": "69467e81",
   "metadata": {},
   "outputs": [],
   "source": [
    "#kw_list = keywordinput(kwsearchs, kwlist1)"
   ]
  },
  {
   "cell_type": "code",
   "execution_count": 7,
   "id": "807f0150",
   "metadata": {},
   "outputs": [],
   "source": [
    "##########################\n",
    "# Keyword to be searched #\n",
    "##########################\n",
    "\n",
    "kw_list = [\"ASX\"]"
   ]
  },
  {
   "cell_type": "code",
   "execution_count": 8,
   "id": "e64668cf",
   "metadata": {},
   "outputs": [],
   "source": [
    "# Build pytrends payload and query\n",
    "\n",
    "pytrend.build_payload(kw_list, cat=0, timeframe='now 7-d', geo='AU', gprop='')\n",
    "trends = pytrend.related_queries()"
   ]
  },
  {
   "cell_type": "code",
   "execution_count": 9,
   "id": "e24c17f2",
   "metadata": {},
   "outputs": [],
   "source": [
    "# Array to hold keyword top words data\n"
   ]
  },
  {
   "cell_type": "code",
   "execution_count": 23,
   "id": "961c0cf3",
   "metadata": {},
   "outputs": [],
   "source": [
    "# kwTop to store the results of top trends similar to the keyword.\n",
    "kwTop = trends[kw_list[0]][\"top\"]"
   ]
  },
  {
   "cell_type": "code",
   "execution_count": 24,
   "id": "7128450d",
   "metadata": {
    "scrolled": true
   },
   "outputs": [
    {
     "data": {
      "text/html": [
       "<div>\n",
       "<style scoped>\n",
       "    .dataframe tbody tr th:only-of-type {\n",
       "        vertical-align: middle;\n",
       "    }\n",
       "\n",
       "    .dataframe tbody tr th {\n",
       "        vertical-align: top;\n",
       "    }\n",
       "\n",
       "    .dataframe thead th {\n",
       "        text-align: right;\n",
       "    }\n",
       "</style>\n",
       "<table border=\"1\" class=\"dataframe\">\n",
       "  <thead>\n",
       "    <tr style=\"text-align: right;\">\n",
       "      <th></th>\n",
       "      <th>query</th>\n",
       "      <th>value</th>\n",
       "    </tr>\n",
       "  </thead>\n",
       "  <tbody>\n",
       "    <tr>\n",
       "      <th>0</th>\n",
       "      <td>asx 200</td>\n",
       "      <td>100</td>\n",
       "    </tr>\n",
       "    <tr>\n",
       "      <th>1</th>\n",
       "      <td>asx share price</td>\n",
       "      <td>73</td>\n",
       "    </tr>\n",
       "    <tr>\n",
       "      <th>2</th>\n",
       "      <td>asx today</td>\n",
       "      <td>32</td>\n",
       "    </tr>\n",
       "    <tr>\n",
       "      <th>3</th>\n",
       "      <td>asx news</td>\n",
       "      <td>18</td>\n",
       "    </tr>\n",
       "    <tr>\n",
       "      <th>4</th>\n",
       "      <td>asx all ords</td>\n",
       "      <td>18</td>\n",
       "    </tr>\n",
       "    <tr>\n",
       "      <th>5</th>\n",
       "      <td>all ords</td>\n",
       "      <td>17</td>\n",
       "    </tr>\n",
       "    <tr>\n",
       "      <th>6</th>\n",
       "      <td>bhp asx</td>\n",
       "      <td>15</td>\n",
       "    </tr>\n",
       "    <tr>\n",
       "      <th>7</th>\n",
       "      <td>asx index</td>\n",
       "      <td>12</td>\n",
       "    </tr>\n",
       "    <tr>\n",
       "      <th>8</th>\n",
       "      <td>asx cba</td>\n",
       "      <td>11</td>\n",
       "    </tr>\n",
       "    <tr>\n",
       "      <th>9</th>\n",
       "      <td>dow</td>\n",
       "      <td>11</td>\n",
       "    </tr>\n",
       "    <tr>\n",
       "      <th>10</th>\n",
       "      <td>pls asx</td>\n",
       "      <td>11</td>\n",
       "    </tr>\n",
       "    <tr>\n",
       "      <th>11</th>\n",
       "      <td>dow jones</td>\n",
       "      <td>10</td>\n",
       "    </tr>\n",
       "    <tr>\n",
       "      <th>12</th>\n",
       "      <td>asx live</td>\n",
       "      <td>10</td>\n",
       "    </tr>\n",
       "    <tr>\n",
       "      <th>13</th>\n",
       "      <td>asx futures</td>\n",
       "      <td>9</td>\n",
       "    </tr>\n",
       "    <tr>\n",
       "      <th>14</th>\n",
       "      <td>asx anz</td>\n",
       "      <td>9</td>\n",
       "    </tr>\n",
       "    <tr>\n",
       "      <th>15</th>\n",
       "      <td>asx 200 today</td>\n",
       "      <td>9</td>\n",
       "    </tr>\n",
       "    <tr>\n",
       "      <th>16</th>\n",
       "      <td>mitsubishi asx</td>\n",
       "      <td>8</td>\n",
       "    </tr>\n",
       "    <tr>\n",
       "      <th>17</th>\n",
       "      <td>bhp share price asx</td>\n",
       "      <td>8</td>\n",
       "    </tr>\n",
       "    <tr>\n",
       "      <th>18</th>\n",
       "      <td>bhp share price</td>\n",
       "      <td>8</td>\n",
       "    </tr>\n",
       "    <tr>\n",
       "      <th>19</th>\n",
       "      <td>fmg asx</td>\n",
       "      <td>8</td>\n",
       "    </tr>\n",
       "    <tr>\n",
       "      <th>20</th>\n",
       "      <td>cxo asx</td>\n",
       "      <td>7</td>\n",
       "    </tr>\n",
       "    <tr>\n",
       "      <th>21</th>\n",
       "      <td>vas asx</td>\n",
       "      <td>7</td>\n",
       "    </tr>\n",
       "    <tr>\n",
       "      <th>22</th>\n",
       "      <td>asx nab</td>\n",
       "      <td>7</td>\n",
       "    </tr>\n",
       "    <tr>\n",
       "      <th>23</th>\n",
       "      <td>nab asx</td>\n",
       "      <td>7</td>\n",
       "    </tr>\n",
       "    <tr>\n",
       "      <th>24</th>\n",
       "      <td>cba share price asx</td>\n",
       "      <td>6</td>\n",
       "    </tr>\n",
       "  </tbody>\n",
       "</table>\n",
       "</div>"
      ],
      "text/plain": [
       "                  query  value\n",
       "0               asx 200    100\n",
       "1       asx share price     73\n",
       "2             asx today     32\n",
       "3              asx news     18\n",
       "4          asx all ords     18\n",
       "5              all ords     17\n",
       "6               bhp asx     15\n",
       "7             asx index     12\n",
       "8               asx cba     11\n",
       "9                   dow     11\n",
       "10              pls asx     11\n",
       "11            dow jones     10\n",
       "12             asx live     10\n",
       "13          asx futures      9\n",
       "14              asx anz      9\n",
       "15        asx 200 today      9\n",
       "16       mitsubishi asx      8\n",
       "17  bhp share price asx      8\n",
       "18      bhp share price      8\n",
       "19              fmg asx      8\n",
       "20              cxo asx      7\n",
       "21              vas asx      7\n",
       "22              asx nab      7\n",
       "23              nab asx      7\n",
       "24  cba share price asx      6"
      ]
     },
     "execution_count": 24,
     "metadata": {},
     "output_type": "execute_result"
    }
   ],
   "source": [
    "kwTop"
   ]
  },
  {
   "cell_type": "code",
   "execution_count": 14,
   "id": "f7592800",
   "metadata": {},
   "outputs": [],
   "source": [
    "#kwTop[0]"
   ]
  },
  {
   "cell_type": "code",
   "execution_count": 15,
   "id": "21652867",
   "metadata": {},
   "outputs": [],
   "source": [
    "# textList to store kwTop lists as a string relating to key keyword.\n",
    "\n",
    "textList = []\n",
    "textList = (' '.join(kwTop[\"query\"].to_list()))"
   ]
  },
  {
   "cell_type": "code",
   "execution_count": 17,
   "id": "0555eb5c",
   "metadata": {},
   "outputs": [
    {
     "data": {
      "text/plain": [
       "'asx 200 asx share price asx today asx news asx all ords all ords bhp asx asx index asx cba dow pls asx dow jones asx live asx futures asx anz asx 200 today mitsubishi asx bhp share price asx bhp share price fmg asx cxo asx vas asx asx nab nab asx cba share price asx'"
      ]
     },
     "execution_count": 17,
     "metadata": {},
     "output_type": "execute_result"
    }
   ],
   "source": [
    "textList"
   ]
  },
  {
   "cell_type": "code",
   "execution_count": 18,
   "id": "4f059f54",
   "metadata": {},
   "outputs": [],
   "source": [
    "# Create mask for wordCloud \n",
    "\n",
    "bg_mask = np.array(Image.open(os.path.join(os.getcwd(), \"australia.png\")))"
   ]
  },
  {
   "cell_type": "code",
   "execution_count": 19,
   "id": "43ecaa93",
   "metadata": {},
   "outputs": [],
   "source": [
    "# Create wordCloud container storing parameters\n",
    "\n",
    "wc = WordCloud(\n",
    "    width = 600, \n",
    "    height = 1000,    \n",
    "    background_color = 'white',\n",
    "    mask = bg_mask,\n",
    "    max_words = 100,\n",
    "    max_font_size = 150,\n",
    "    min_font_size = 15,\n",
    "    contour_width = 2, \n",
    "    contour_color = 'gold'\n",
    ")"
   ]
  },
  {
   "cell_type": "code",
   "execution_count": null,
   "id": "5c5d6d44",
   "metadata": {},
   "outputs": [],
   "source": [
    "#len(textList)"
   ]
  },
  {
   "cell_type": "code",
   "execution_count": 21,
   "id": "81c3b433",
   "metadata": {},
   "outputs": [
    {
     "data": {
      "text/plain": [
       "<wordcloud.wordcloud.WordCloud at 0x1e642033fc8>"
      ]
     },
     "execution_count": 21,
     "metadata": {},
     "output_type": "execute_result"
    }
   ],
   "source": [
    "# wordcloud to generate jpg based on the words inside textList and save it into the local directory.\n",
    "\n",
    "wc.generate_from_text(textList)\n",
    "filetype = \".jpg\"\n",
    "output = kw_list[0] + filetype\n",
    "wc.to_file(output)"
   ]
  },
  {
   "cell_type": "code",
   "execution_count": null,
   "id": "327e06df",
   "metadata": {},
   "outputs": [],
   "source": []
  }
 ],
 "metadata": {
  "kernelspec": {
   "display_name": "Python [conda env:PythonData] *",
   "language": "python",
   "name": "conda-env-PythonData-py"
  },
  "language_info": {
   "codemirror_mode": {
    "name": "ipython",
    "version": 3
   },
   "file_extension": ".py",
   "mimetype": "text/x-python",
   "name": "python",
   "nbconvert_exporter": "python",
   "pygments_lexer": "ipython3",
   "version": "3.7.7"
  },
  "vscode": {
   "interpreter": {
    "hash": "9b74207641f7cfe5e1ead3ae1581bd121868b10c7388807feecf4dcc1c97c85d"
   }
  }
 },
 "nbformat": 4,
 "nbformat_minor": 5
}
