{
 "cells": [
  {
   "cell_type": "code",
   "execution_count": 2,
   "id": "223641cf",
   "metadata": {},
   "outputs": [],
   "source": [
    "import pandas as pd\n",
    "import datetime as dt\n",
    "from pytrends.request import TrendReq"
   ]
  },
  {
   "cell_type": "code",
   "execution_count": 3,
   "id": "a2372d5e",
   "metadata": {},
   "outputs": [],
   "source": [
    "pytrend = TrendReq(hl='en-US', tz=-480)"
   ]
  },
  {
   "cell_type": "code",
   "execution_count": 4,
   "id": "47015c8d",
   "metadata": {},
   "outputs": [],
   "source": [
    "def keywordinput(kwsearchs, kw_list2):\n",
    "    for i in range(kwsearchs):\n",
    "        kwuser = input(\"Keyword: ?\")\n",
    "        kw_list2.append(kwuser)\n",
    "    return kw_list2"
   ]
  },
  {
   "cell_type": "code",
   "execution_count": 5,
   "id": "4916d00b",
   "metadata": {},
   "outputs": [],
   "source": [
    "kw_list2 = []"
   ]
  },
  {
   "cell_type": "code",
   "execution_count": 6,
   "id": "3ed3a3fe",
   "metadata": {},
   "outputs": [
    {
     "name": "stdout",
     "output_type": "stream",
     "text": [
      "How many keywords would you like to search for? 4\n"
     ]
    }
   ],
   "source": [
    "kwsearchs = int(input(\"How many keywords would you like to search for? \"))"
   ]
  },
  {
   "cell_type": "code",
   "execution_count": 7,
   "id": "36fe621f",
   "metadata": {},
   "outputs": [
    {
     "name": "stdout",
     "output_type": "stream",
     "text": [
      "Keyword: ?ASX\n",
      "Keyword: ?Gold\n",
      "Keyword: ?Silver\n",
      "Keyword: ?Cost\n"
     ]
    }
   ],
   "source": [
    "kw_list = keywordinput(kwsearchs, kw_list2)"
   ]
  },
  {
   "cell_type": "code",
   "execution_count": 8,
   "id": "c20f43b5",
   "metadata": {},
   "outputs": [
    {
     "data": {
      "text/plain": [
       "['ASX', 'Gold', 'Silver', 'Cost']"
      ]
     },
     "execution_count": 8,
     "metadata": {},
     "output_type": "execute_result"
    }
   ],
   "source": [
    "kw_list"
   ]
  },
  {
   "cell_type": "code",
   "execution_count": 10,
   "id": "236dd5ab",
   "metadata": {},
   "outputs": [],
   "source": [
    "pytrend.build_payload(kw_list, cat=0, timeframe='now 7-d', geo='AU', gprop='')\n",
    "trends = pytrend.related_queries()"
   ]
  },
  {
   "cell_type": "code",
   "execution_count": 11,
   "id": "be1f36e4",
   "metadata": {},
   "outputs": [],
   "source": [
    "kwTop = []"
   ]
  },
  {
   "cell_type": "code",
   "execution_count": 12,
   "id": "a4b80f13",
   "metadata": {},
   "outputs": [],
   "source": [
    "for i in range(len(kw_list)):\n",
    "    kwTop.append(trends[kw_list3[i]][\"top\"])"
   ]
  },
  {
   "cell_type": "code",
   "execution_count": 13,
   "id": "5d488b8e",
   "metadata": {},
   "outputs": [],
   "source": [
    "#kwTop"
   ]
  },
  {
   "cell_type": "code",
   "execution_count": 16,
   "id": "1794023d",
   "metadata": {},
   "outputs": [],
   "source": [
    "#kwTop[0]"
   ]
  },
  {
   "cell_type": "code",
   "execution_count": 17,
   "id": "57fbe6df",
   "metadata": {},
   "outputs": [],
   "source": [
    "from wordcloud import WordCloud, ImageColorGenerator, STOPWORDS\n",
    "from PIL import Image\n",
    "import os\n",
    "import numpy as np"
   ]
  },
  {
   "cell_type": "code",
   "execution_count": 18,
   "id": "28494af4",
   "metadata": {},
   "outputs": [],
   "source": [
    "textList = []\n",
    "for i in range(len(kw_list)):\n",
    "    textList.append(' '.join(kwTop[i][\"query\"].to_list()))"
   ]
  },
  {
   "cell_type": "code",
   "execution_count": 21,
   "id": "dc731fa0",
   "metadata": {},
   "outputs": [
    {
     "data": {
      "text/plain": [
       "'asx 200 asx share price asx today asx news asx all ords all ords bhp asx asx index pls asx asx cba asx live asx anz dow jones asx futures asx 200 today mitsubishi asx bhp share price asx fmg asx asx nab bhp share price vas asx cxo asx cba share price asx cba share price asx wbc'"
      ]
     },
     "execution_count": 21,
     "metadata": {},
     "output_type": "execute_result"
    }
   ],
   "source": [
    "textList[0]"
   ]
  },
  {
   "cell_type": "code",
   "execution_count": 22,
   "id": "89f6d30d",
   "metadata": {},
   "outputs": [],
   "source": [
    "#stopwords = set(STOPWORDS) \n",
    "#stopwords.add(\"christmas\")"
   ]
  },
  {
   "cell_type": "code",
   "execution_count": 23,
   "id": "86f74a7b",
   "metadata": {},
   "outputs": [],
   "source": [
    "bg_mask = np.array(Image.open(os.path.join(os.getcwd(), \"australia.png\")))"
   ]
  },
  {
   "cell_type": "code",
   "execution_count": 24,
   "id": "df81f008",
   "metadata": {},
   "outputs": [],
   "source": [
    "wc = WordCloud(\n",
    "    width = 600, \n",
    "    height = 1000,    \n",
    "    background_color = 'white',\n",
    "    mask = bg_mask,\n",
    "    #stopwords = stopwords,\n",
    "    max_words = 1000,\n",
    "    max_font_size = 150,\n",
    "    min_font_size = 15,\n",
    "    contour_width = 2, \n",
    "    contour_color = 'gold'\n",
    ")"
   ]
  },
  {
   "cell_type": "code",
   "execution_count": 25,
   "id": "5d2d80ab",
   "metadata": {},
   "outputs": [
    {
     "data": {
      "text/plain": [
       "4"
      ]
     },
     "execution_count": 25,
     "metadata": {},
     "output_type": "execute_result"
    }
   ],
   "source": [
    "len(textList)"
   ]
  },
  {
   "cell_type": "code",
   "execution_count": 26,
   "id": "d806a760",
   "metadata": {},
   "outputs": [
    {
     "data": {
      "text/plain": [
       "'how much cost of living gold cost passport cost cost centre uber cost australia post cost netflix cost powerball cost cost of living australia cost leadership the ghan cost private jet cost f1 red bull cost cap emerald azzurra cost allurion balloon cost powerball hit cost opportunity cost meaning red earth battery cost semaglutide cost economies of scale azure cost calculator powerball system 8 powerhit cost cost of goods sold formula f1 news red bull cost cap'"
      ]
     },
     "execution_count": 26,
     "metadata": {},
     "output_type": "execute_result"
    }
   ],
   "source": [
    "textList[i]"
   ]
  },
  {
   "cell_type": "code",
   "execution_count": 27,
   "id": "b4d9edc4",
   "metadata": {},
   "outputs": [],
   "source": [
    "for i in range(len(textList)):\n",
    "    wc.generate_from_text(textList[i])\n",
    "    filetype = \".jpg\"\n",
    "    output = kw_list[i] + filetype\n",
    "    wc.to_file(output)"
   ]
  },
  {
   "cell_type": "code",
   "execution_count": null,
   "id": "b67ee0cf",
   "metadata": {},
   "outputs": [],
   "source": []
  },
  {
   "cell_type": "code",
   "execution_count": null,
   "id": "c8bfa22b",
   "metadata": {},
   "outputs": [],
   "source": []
  },
  {
   "cell_type": "code",
   "execution_count": null,
   "id": "c3663e09",
   "metadata": {},
   "outputs": [],
   "source": []
  }
 ],
 "metadata": {
  "kernelspec": {
   "display_name": "Python [conda env:PythonData] *",
   "language": "python",
   "name": "conda-env-PythonData-py"
  },
  "language_info": {
   "codemirror_mode": {
    "name": "ipython",
    "version": 3
   },
   "file_extension": ".py",
   "mimetype": "text/x-python",
   "name": "python",
   "nbconvert_exporter": "python",
   "pygments_lexer": "ipython3",
   "version": "3.7.7"
  },
  "vscode": {
   "interpreter": {
    "hash": "9b74207641f7cfe5e1ead3ae1581bd121868b10c7388807feecf4dcc1c97c85d"
   }
  }
 },
 "nbformat": 4,
 "nbformat_minor": 5
}
